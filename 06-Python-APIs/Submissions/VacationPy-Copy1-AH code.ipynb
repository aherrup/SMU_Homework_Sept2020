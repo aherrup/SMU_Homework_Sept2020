{
 "cells": [
  {
   "cell_type": "markdown",
   "metadata": {},
   "source": [
    "# VacationPy\n",
    "----\n",
    "\n",
    "#### Note\n",
    "* Keep an eye on your API usage. Use https://developers.google.com/maps/reporting/gmp-reporting as reference for how to monitor your usage and billing.\n",
    "\n",
    "* Instructions have been included for each segment. You do not have to follow them exactly, but they are included to help you think through the steps."
   ]
  },
  {
   "cell_type": "code",
   "execution_count": null,
   "metadata": {},
   "outputs": [],
   "source": [
    "# Dependencies and Setup\n",
    "import matplotlib.pyplot as plt\n",
    "import pandas as pd\n",
    "import numpy as np\n",
    "import requests\n",
    "import gmaps\n",
    "import os\n",
    "\n",
    "# Import API key\n",
    "from api_keys import g_key\n"
   ]
  },
  {
   "cell_type": "markdown",
   "metadata": {},
   "source": [
    "### Store Part I results into DataFrame\n",
    "* Load the csv exported in Part I to a DataFrame"
   ]
  },
  {
   "cell_type": "code",
   "execution_count": null,
   "metadata": {},
   "outputs": [],
   "source": [
    "df = pd.read_csv(\"citydata.csv\")\n",
    "print(df.columns)\n",
    "\n",
    "cities_df=pd.DataFrame()\n",
    "cities_df[\"City\"]=df[\"City\"]\n",
    "cities_df[\"Lat\"]=df[\"Lat\"]\n",
    "cities_df[\"Lng\"]=df[\"Lng\"]\n",
    "cities_df[\"Max_Temp\"]=df[\"Max_Temp\"]\n",
    "cities_df[\"Humidity\"]=df[\"Humidity\"]\n",
    "cities_df[\"Cloudiness\"]=df[\"Cloudiness\"]\n",
    "cities_df[\"Wind_Speed\"]=df[\"Wind_Speed\"]\n",
    "cities_df[\"Country\"]=df[\"Country\"]\n",
    "cities_df[\"Date\"]=df[\"Date\"]\n",
    "\n",
    "cities_df.head()\n"
   ]
  },
  {
   "cell_type": "code",
   "execution_count": null,
   "metadata": {},
   "outputs": [],
   "source": [
    "cities_df.info()"
   ]
  },
  {
   "cell_type": "code",
   "execution_count": null,
   "metadata": {},
   "outputs": [],
   "source": [
    "cities_df = cities_df.dropna()\n",
    "cities_df.info()"
   ]
  },
  {
   "cell_type": "markdown",
   "metadata": {},
   "source": [
    "### Humidity Heatmap\n",
    "* Configure gmaps.\n",
    "* Use the Lat and Lng as locations and Humidity as the weight.\n",
    "* Add Heatmap layer to map."
   ]
  },
  {
   "cell_type": "code",
   "execution_count": null,
   "metadata": {},
   "outputs": [],
   "source": [
    "gmaps.configure(api_key=g_key)"
   ]
  },
  {
   "cell_type": "code",
   "execution_count": null,
   "metadata": {},
   "outputs": [],
   "source": [
    "locations = cities_df[[\"Lat\", \"Lng\"]].astype(float)\n",
    "weight=(cities_df[\"Humidity\"])\n",
    "\n",
    "fig = gmaps.figure()\n",
    "\n",
    "heat_layer=gmaps.heatmap_layer(locations, weights=weight,dissipating=False, max_intensity=100, point_radius = 1)\n",
    "\n",
    "\n",
    "fig.add_layer(heat_layer)\n",
    "\n",
    "fig"
   ]
  },
  {
   "cell_type": "markdown",
   "metadata": {},
   "source": [
    "### Create new DataFrame fitting weather criteria\n",
    "* Narrow down the cities to fit weather conditions.\n",
    "* Drop any rows will null values."
   ]
  },
  {
   "cell_type": "code",
   "execution_count": null,
   "metadata": {},
   "outputs": [],
   "source": [
    "cities_df2=cities_df.loc[cities_df[\"Max_Temp\"]>70]\n",
    "cities_df3=cities_df2.loc[cities_df2[\"Max_Temp\"]<80]\n",
    "cities_df3=cities_df2.loc[cities_df2[\"Wind_Speed\"]<10]\n",
    "ideal_df=cities_df3.loc[cities_df3[\"Cloudiness\"]==0]\n",
    "ideal_df=ideal_df.reset_index(drop=True)\n",
    "ideal_df.head(10)"
   ]
  },
  {
   "cell_type": "markdown",
   "metadata": {},
   "source": [
    "### Hotel Map\n",
    "* Store into variable named `hotel_df`.\n",
    "* Add a \"Hotel Name\" column to the DataFrame.\n",
    "* Set parameters to search for hotels with 5000 meters.\n",
    "* Hit the Google Places API for each city's coordinates.\n",
    "* Store the first Hotel result into the DataFrame.\n",
    "* Plot markers on top of the heatmap."
   ]
  },
  {
   "cell_type": "code",
   "execution_count": null,
   "metadata": {},
   "outputs": [],
   "source": [
    "drafthotel_df=pd.DataFrame()\n",
    "drafthotel_df[\"Hotel Name\"]=()\n",
    "\n",
    "\n",
    "drafthotel_df"
   ]
  },
  {
   "cell_type": "code",
   "execution_count": null,
   "metadata": {},
   "outputs": [],
   "source": [
    "base_url = \"https://maps.googleapis.com/maps/api/place/nearbysearch/json\"\n",
    "params = {\n",
    "    \"keyword\": \"hotel\",\n",
    "    \"radius\": 5000,\n",
    "    \"type\": \"hotel\",\n",
    "    \"key\": g_key\n",
    "}\n",
    "\n",
    "for index, row in ideal_df.iterrows():\n",
    "       # get location type from df\n",
    "    location = f'{row[\"Lat\"]}, {row[\"Lng\"]}'\n",
    "\n",
    "    # add location to params dict\n",
    "    params['location'] = location\n",
    "\n",
    "    # assemble url and make API request\n",
    "    print(f\"Retrieving Results for Index {index}: {row['City']}.\")\n",
    "    \n",
    "    response = requests.get(base_url, params=params).json()\n",
    "    \n",
    "    # extract results\n",
    "    results = response['results']\n",
    "    \n",
    "    try:\n",
    "        print(f\"Closest hotel is {results[0]['name']}.\")\n",
    "        \n",
    "        ideal_df.loc[index, 'Hotel_Name'] = results[0]['name']\n",
    "              \n",
    "        \n",
    "    except (KeyError, IndexError):\n",
    "        print(\"Missing field/result... skipping.\")\n",
    "        \n",
    "    print(\"------------\")\n",
    "    "
   ]
  },
  {
   "cell_type": "code",
   "execution_count": null,
   "metadata": {},
   "outputs": [],
   "source": [
    "drafthotel_df[\"Hotel Name\"]=ideal_df[\"Hotel_Name\"]\n",
    "drafthotel_df[\"City\"]=ideal_df[\"City\"]\n",
    "drafthotel_df[\"Country\"]=ideal_df[\"Country\"]\n",
    "drafthotel_df[\"Humidity\"]=ideal_df[\"Humidity\"]\n",
    "drafthotel_df[\"Lat\"]=ideal_df[\"Lat\"]\n",
    "drafthotel_df[\"Lng\"]=ideal_df[\"Lng\"]\n",
    "\n",
    "hotel_df=drafthotel_df.dropna()\n",
    "\n",
    "hotel_df.head()"
   ]
  },
  {
   "cell_type": "code",
   "execution_count": null,
   "metadata": {},
   "outputs": [],
   "source": [
    "# NOTE: Do not change any of the code in this cell\n",
    "\n",
    "# Using the template add the hotel marks to the heatmap\n",
    "info_box_template = \"\"\"\n",
    "<dl>\n",
    "<dt>Name</dt><dd>{Hotel Name}</dd>\n",
    "<dt>City</dt><dd>{City}</dd>\n",
    "<dt>Country</dt><dd>{Country}</dd>\n",
    "</dl>\n",
    "\"\"\"\n",
    "# Store the DataFrame Row\n",
    "# NOTE: be sure to update with your DataFrame name\n",
    "hotel_info = [info_box_template.format(**row) for index, row in hotel_df.iterrows()]\n",
    "locations = hotel_df[[\"Lat\", \"Lng\"]]"
   ]
  },
  {
   "cell_type": "code",
   "execution_count": null,
   "metadata": {},
   "outputs": [],
   "source": [
    "# Add marker layer ontop of heat map\n",
    "locations = hotel_df[[\"Lat\", \"Lng\"]]\n",
    "weight=(hotel_df[\"Humidity\"])\n",
    "\n",
    "fig = gmaps.figure()\n",
    "\n",
    "heat_layer=gmaps.heatmap_layer(locations, weights=weight)\n",
    "marker_layer = gmaps.marker_layer(locations, info_box_content=hotel_info)\n",
    "\n",
    "fig.add_layer(marker_layer)\n",
    "\n",
    "fig.add_layer(heat_layer)\n",
    "\n",
    "# Display figure\n",
    "fig\n",
    "\n",
    "\n"
   ]
  }
 ],
 "metadata": {
  "kernelspec": {
   "display_name": "Python 3",
   "language": "python",
   "name": "python3"
  },
  "language_info": {
   "codemirror_mode": {
    "name": "ipython",
    "version": 3
   },
   "file_extension": ".py",
   "mimetype": "text/x-python",
   "name": "python",
   "nbconvert_exporter": "python",
   "pygments_lexer": "ipython3",
   "version": "3.8.3"
  },
  "latex_envs": {
   "LaTeX_envs_menu_present": true,
   "autoclose": false,
   "autocomplete": true,
   "bibliofile": "biblio.bib",
   "cite_by": "apalike",
   "current_citInitial": 1,
   "eqLabelWithNumbers": true,
   "eqNumInitial": 1,
   "hotkeys": {
    "equation": "Ctrl-E",
    "itemize": "Ctrl-I"
   },
   "labels_anchors": false,
   "latex_user_defs": false,
   "report_style_numbering": false,
   "user_envs_cfg": false
  }
 },
 "nbformat": 4,
 "nbformat_minor": 4
}
